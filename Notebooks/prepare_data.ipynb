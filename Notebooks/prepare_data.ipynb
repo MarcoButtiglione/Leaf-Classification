{
 "cells": [
  {
   "cell_type": "code",
   "execution_count": null,
   "metadata": {
    "colab": {
     "base_uri": "https://localhost:8080/"
    },
    "id": "JiiM6KzKxb7n",
    "outputId": "3109ab24-47e9-4984-a530-4999aef87d16"
   },
   "outputs": [
    {
     "name": "stdout",
     "output_type": "stream",
     "text": [
      "Mounted at /gdrive\n"
     ]
    }
   ],
   "source": [
    "# from google.colab import drive\n",
    "# drive.mount('/gdrive')"
   ]
  },
  {
   "cell_type": "code",
   "execution_count": null,
   "metadata": {
    "colab": {
     "base_uri": "https://localhost:8080/"
    },
    "id": "ZCUQzWYvy9cL",
    "outputId": "d1092dbb-3647-4daf-8814-a52137128c32"
   },
   "outputs": [
    {
     "name": "stdout",
     "output_type": "stream",
     "text": [
      "/gdrive/My Drive/AN2DL/leaves\n"
     ]
    }
   ],
   "source": [
    "# %cd /gdrive/My Drive/AN2DL/leaves/"
   ]
  },
  {
   "cell_type": "code",
   "execution_count": null,
   "metadata": {
    "colab": {
     "base_uri": "https://localhost:8080/"
    },
    "id": "splRBhr4akun",
    "outputId": "a2e3fb79-ed69-488c-ef94-b27327667fb9"
   },
   "outputs": [
    {
     "name": "stdout",
     "output_type": "stream",
     "text": [
      "./training/\n",
      "14\n",
      "./training/Pepper\n",
      "765\n",
      "./training/Cherry\n",
      "583\n",
      "./training/Squash\n",
      "574\n",
      "./training/Grape\n",
      "1458\n",
      "./training/Strawberry\n",
      "673\n",
      "./training/Peach\n",
      "977\n",
      "./training/Blueberry\n",
      "467\n",
      "./training/Raspberry\n",
      "264\n",
      "./training/Tomato\n",
      "5693\n",
      "./training/Corn\n",
      "1206\n",
      "./training/Potato\n",
      "716\n",
      "./training/Soybean\n",
      "1616\n",
      "./training/Apple\n",
      "988\n",
      "./training/Orange\n",
      "1748\n"
     ]
    }
   ],
   "source": [
    "# Prepare data\n",
    "!unzip dataset.zip\n",
    "# print counts\n",
    "!find ./training/ -type d -print -exec sh -c \"ls {} | wc -l | head -n1\" \\;"
   ]
  },
  {
   "cell_type": "code",
   "execution_count": 1,
   "metadata": {
    "colab": {
     "base_uri": "https://localhost:8080/",
     "height": 471
    },
    "id": "WRL3G8yL8BPL",
    "outputId": "2949f2a3-ddc8-47a0-95ab-29a9a134060a"
   },
   "outputs": [
    {
     "name": "stdout",
     "output_type": "stream",
     "text": [
      "Requirement already satisfied: split-folders in /home/dema/.local/lib/python3.9/site-packages (0.4.3)\n",
      "./output/\n",
      "3\n",
      "./output/train\n",
      "14\n",
      "./output/train/Pepper\n",
      "612\n",
      "./output/train/Cherry\n",
      "466\n",
      "./output/train/Squash\n",
      "459\n",
      "./output/train/Grape\n",
      "1166\n",
      "./output/train/Strawberry\n",
      "538\n",
      "./output/train/Peach\n",
      "781\n",
      "./output/train/Blueberry\n",
      "373\n",
      "./output/train/Raspberry\n",
      "211\n",
      "./output/train/Tomato\n",
      "4554\n",
      "./output/train/Corn\n",
      "964\n",
      "./output/train/Potato\n",
      "572\n",
      "./output/train/Soybean\n",
      "1292\n",
      "./output/train/Apple\n",
      "790\n",
      "./output/train/Orange\n",
      "1398\n",
      "./output/val\n",
      "14\n",
      "./output/val/Pepper\n",
      "76\n",
      "./output/val/Cherry\n",
      "58\n",
      "./output/val/Squash\n",
      "57\n",
      "./output/val/Grape\n",
      "145\n",
      "./output/val/Strawberry\n",
      "67\n",
      "./output/val/Peach\n",
      "97\n",
      "./output/val/Blueberry\n",
      "46\n",
      "./output/val/Raspberry\n",
      "26\n",
      "./output/val/Tomato\n",
      "569\n",
      "./output/val/Corn\n",
      "120\n",
      "./output/val/Potato\n",
      "71\n",
      "./output/val/Soybean\n",
      "161\n",
      "./output/val/Apple\n",
      "98\n",
      "./output/val/Orange\n",
      "174\n",
      "./output/test\n",
      "14\n",
      "./output/test/Pepper\n",
      "77\n",
      "./output/test/Cherry\n",
      "59\n",
      "./output/test/Squash\n",
      "58\n",
      "./output/test/Grape\n",
      "147\n",
      "./output/test/Strawberry\n",
      "68\n",
      "./output/test/Peach\n",
      "99\n",
      "./output/test/Blueberry\n",
      "48\n",
      "./output/test/Raspberry\n",
      "27\n",
      "./output/test/Tomato\n",
      "570\n",
      "./output/test/Corn\n",
      "122\n",
      "./output/test/Potato\n",
      "73\n",
      "./output/test/Soybean\n",
      "163\n",
      "./output/test/Apple\n",
      "100\n",
      "./output/test/Orange\n",
      "176\n"
     ]
    }
   ],
   "source": [
    "seed = 42\n",
    "!pip install split-folders\n",
    "import splitfolders\n",
    "splitfolders.fixed('training', output=\"output_os\", seed=seed, fixed=(50,50), oversample=True) \n"
   ]
  },
  {
   "cell_type": "code",
   "execution_count": 2,
   "metadata": {},
   "outputs": [
    {
     "name": "stdout",
     "output_type": "stream",
     "text": [
      "./output_os/\n",
      "3\n",
      "./output_os/train\n",
      "14\n",
      "./output_os/train/Pepper\n",
      "5593\n",
      "./output_os/train/Cherry\n",
      "5593\n",
      "./output_os/train/Squash\n",
      "5593\n",
      "./output_os/train/Grape\n",
      "5593\n",
      "./output_os/train/Strawberry\n",
      "5593\n",
      "./output_os/train/Peach\n",
      "5593\n",
      "./output_os/train/Blueberry\n",
      "5593\n",
      "./output_os/train/Raspberry\n",
      "5593\n",
      "./output_os/train/Tomato\n",
      "5593\n",
      "./output_os/train/Corn\n",
      "5593\n",
      "./output_os/train/Potato\n",
      "5593\n",
      "./output_os/train/Soybean\n",
      "5593\n",
      "./output_os/train/Apple\n",
      "5593\n",
      "./output_os/train/Orange\n",
      "5593\n",
      "./output_os/val\n",
      "14\n",
      "./output_os/val/Pepper\n",
      "50\n",
      "./output_os/val/Cherry\n",
      "50\n",
      "./output_os/val/Squash\n",
      "50\n",
      "./output_os/val/Grape\n",
      "50\n",
      "./output_os/val/Strawberry\n",
      "50\n",
      "./output_os/val/Peach\n",
      "50\n",
      "./output_os/val/Blueberry\n",
      "50\n",
      "./output_os/val/Raspberry\n",
      "50\n",
      "./output_os/val/Tomato\n",
      "50\n",
      "./output_os/val/Corn\n",
      "50\n",
      "./output_os/val/Potato\n",
      "50\n",
      "./output_os/val/Soybean\n",
      "50\n",
      "./output_os/val/Apple\n",
      "50\n",
      "./output_os/val/Orange\n",
      "50\n",
      "./output_os/test\n",
      "14\n",
      "./output_os/test/Pepper\n",
      "50\n",
      "./output_os/test/Cherry\n",
      "50\n",
      "./output_os/test/Squash\n",
      "50\n",
      "./output_os/test/Grape\n",
      "50\n",
      "./output_os/test/Strawberry\n",
      "50\n",
      "./output_os/test/Peach\n",
      "50\n",
      "./output_os/test/Blueberry\n",
      "50\n",
      "./output_os/test/Raspberry\n",
      "50\n",
      "./output_os/test/Tomato\n",
      "50\n",
      "./output_os/test/Corn\n",
      "50\n",
      "./output_os/test/Potato\n",
      "50\n",
      "./output_os/test/Soybean\n",
      "50\n",
      "./output_os/test/Apple\n",
      "50\n",
      "./output_os/test/Orange\n",
      "50\n"
     ]
    }
   ],
   "source": [
    "!find ./output_os/ -type d -print -exec sh -c \"ls {} | wc -l | head -n1\" \\;\n"
   ]
  }
 ],
 "metadata": {
  "interpreter": {
   "hash": "916dbcbb3f70747c44a77c7bcd40155683ae19c65e1c03b4aa3499c5328201f1"
  },
  "kernelspec": {
   "display_name": "Python 3.9.7 64-bit",
   "language": "python",
   "name": "python3"
  },
  "language_info": {
   "codemirror_mode": {
    "name": "ipython",
    "version": 3
   },
   "file_extension": ".py",
   "mimetype": "text/x-python",
   "name": "python",
   "nbconvert_exporter": "python",
   "pygments_lexer": "ipython3",
   "version": "3.9.7"
  },
  "orig_nbformat": 4
 },
 "nbformat": 4,
 "nbformat_minor": 2
}
